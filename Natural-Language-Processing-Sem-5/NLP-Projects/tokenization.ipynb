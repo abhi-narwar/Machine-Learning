{
  "nbformat": 4,
  "nbformat_minor": 0,
  "metadata": {
    "colab": {
      "provenance": []
    },
    "kernelspec": {
      "name": "python3",
      "display_name": "Python 3"
    },
    "language_info": {
      "name": "python"
    }
  },
  "cells": [
    {
      "cell_type": "code",
      "source": [
        "# Load the library for natural language processing (NLP)\n",
        "import nltk"
      ],
      "metadata": {
        "id": "hapS1M1eZJcX"
      },
      "execution_count": 3,
      "outputs": []
    },
    {
      "cell_type": "code",
      "source": [
        "# Download the data NLTK needs to split text into sentences and words\n",
        "nltk.download('punkt')\n",
        "nltk.download('punkt_tab')\n"
      ],
      "metadata": {
        "colab": {
          "base_uri": "https://localhost:8080/"
        },
        "id": "W8DmMb_3Z0On",
        "outputId": "dd9356c8-f3ba-45b2-843c-f386cfbd72a4"
      },
      "execution_count": 4,
      "outputs": [
        {
          "output_type": "stream",
          "name": "stderr",
          "text": [
            "[nltk_data] Downloading package punkt to /root/nltk_data...\n",
            "[nltk_data]   Package punkt is already up-to-date!\n",
            "[nltk_data] Downloading package punkt_tab to /root/nltk_data...\n",
            "[nltk_data]   Package punkt_tab is already up-to-date!\n"
          ]
        },
        {
          "output_type": "execute_result",
          "data": {
            "text/plain": [
              "True"
            ]
          },
          "metadata": {},
          "execution_count": 4
        }
      ]
    },
    {
      "cell_type": "code",
      "source": [
        "# This is the text string we want to analyze\n",
        "paragraph = \"Hello! I am Abhishek Narwar. Kurta Pajamma, kala kala kala kala kala kala... Tony Kakkar is greater than Tony Stark.\"\n",
        "\n"
      ],
      "metadata": {
        "id": "lJ1eOXD4aTvt"
      },
      "execution_count": 5,
      "outputs": []
    },
    {
      "cell_type": "code",
      "source": [
        "# Use NLTK to split the paragraph into a list of sentences\n",
        "sentences = nltk.sent_tokenize(paragraph)\n"
      ],
      "metadata": {
        "id": "cHS4rjfXaXAQ"
      },
      "execution_count": 6,
      "outputs": []
    },
    {
      "cell_type": "code",
      "source": [
        "# Use NLTK to split the paragraph into a list of words and punctuation\n",
        "words = nltk.word_tokenize(paragraph)"
      ],
      "metadata": {
        "id": "_GKk6x8pabJE"
      },
      "execution_count": 7,
      "outputs": []
    },
    {
      "cell_type": "code",
      "source": [
        "\n",
        "# Print the list of sentences\n",
        "print(\"List of Sentences:\")\n",
        "print(sentences)\n",
        "\n",
        "# Print the list of words\n",
        "print(\"\\nList of Words:\")\n",
        "print(words)"
      ],
      "metadata": {
        "colab": {
          "base_uri": "https://localhost:8080/"
        },
        "id": "nSMlz2ilag5l",
        "outputId": "c3ebd83d-e8ba-4035-a4e6-646e9a3cf986"
      },
      "execution_count": 8,
      "outputs": [
        {
          "output_type": "stream",
          "name": "stdout",
          "text": [
            "List of Sentences:\n",
            "['Hello!', 'I am Abhishek Narwar.', 'Kurta Pajamma, kala kala kala kala kala kala... Tony Kakkar is greater than Tony Stark.']\n",
            "\n",
            "List of Words:\n",
            "['Hello', '!', 'I', 'am', 'Abhishek', 'Narwar', '.', 'Kurta', 'Pajamma', ',', 'kala', 'kala', 'kala', 'kala', 'kala', 'kala', '...', 'Tony', 'Kakkar', 'is', 'greater', 'than', 'Tony', 'Stark', '.']\n"
          ]
        }
      ]
    },
    {
      "cell_type": "code",
      "source": [],
      "metadata": {
        "id": "e0HI9XnEakzT"
      },
      "execution_count": null,
      "outputs": []
    }
  ]
}