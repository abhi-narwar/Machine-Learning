{
  "cells": [
    {
      "cell_type": "code",
      "execution_count": null,
      "metadata": {
        "id": "hapS1M1eZJcX"
      },
      "outputs": [],
      "source": [
        "\n",
        "import nltk"
      ]
    },
    {
      "cell_type": "code",
      "execution_count": null,
      "metadata": {
        "colab": {
          "base_uri": "https://localhost:8080/"
        },
        "id": "W8DmMb_3Z0On",
        "outputId": "dd9356c8-f3ba-45b2-843c-f386cfbd72a4"
      },
      "outputs": [
        {
          "name": "stderr",
          "output_type": "stream",
          "text": [
            "[nltk_data] Downloading package punkt to /root/nltk_data...\n",
            "[nltk_data]   Package punkt is already up-to-date!\n",
            "[nltk_data] Downloading package punkt_tab to /root/nltk_data...\n",
            "[nltk_data]   Package punkt_tab is already up-to-date!\n"
          ]
        },
        {
          "data": {
            "text/plain": [
              "True"
            ]
          },
          "execution_count": 4,
          "metadata": {},
          "output_type": "execute_result"
        }
      ],
      "source": [
        "\n",
        "nltk.download('punkt')\n",
        "nltk.download('punkt_tab')\n"
      ]
    },
    {
      "cell_type": "code",
      "execution_count": null,
      "metadata": {
        "id": "lJ1eOXD4aTvt"
      },
      "outputs": [],
      "source": [
        "\n",
        "paragraph = \"Hello! I am Abhishek Narwar. Kurta Pajamma, kala kala kala kala kala kala... Tony Kakkar is greater than Tony Stark.\"\n",
        "\n"
      ]
    },
    {
      "cell_type": "code",
      "execution_count": null,
      "metadata": {
        "id": "cHS4rjfXaXAQ"
      },
      "outputs": [],
      "source": [
        "\n",
        "sentences = nltk.sent_tokenize(paragraph)\n"
      ]
    },
    {
      "cell_type": "code",
      "execution_count": null,
      "metadata": {
        "id": "_GKk6x8pabJE"
      },
      "outputs": [],
      "source": [
        "\n",
        "words = nltk.word_tokenize(paragraph)"
      ]
    },
    {
      "cell_type": "code",
      "execution_count": null,
      "metadata": {
        "colab": {
          "base_uri": "https://localhost:8080/"
        },
        "id": "nSMlz2ilag5l",
        "outputId": "c3ebd83d-e8ba-4035-a4e6-646e9a3cf986"
      },
      "outputs": [
        {
          "name": "stdout",
          "output_type": "stream",
          "text": [
            "List of Sentences:\n",
            "['Hello!', 'I am Abhishek Narwar.', 'Kurta Pajamma, kala kala kala kala kala kala... Tony Kakkar is greater than Tony Stark.']\n",
            "\n",
            "List of Words:\n",
            "['Hello', '!', 'I', 'am', 'Abhishek', 'Narwar', '.', 'Kurta', 'Pajamma', ',', 'kala', 'kala', 'kala', 'kala', 'kala', 'kala', '...', 'Tony', 'Kakkar', 'is', 'greater', 'than', 'Tony', 'Stark', '.']\n"
          ]
        }
      ],
      "source": [
        "\n",
        "\n",
        "print(\"List of Sentences:\")\n",
        "print(sentences)\n",
        "\n",
        "\n",
        "print(\"\\nList of Words:\")\n",
        "print(words)"
      ]
    },
    {
      "cell_type": "code",
      "execution_count": null,
      "metadata": {
        "id": "e0HI9XnEakzT"
      },
      "outputs": [],
      "source": []
    }
  ],
  "metadata": {
    "colab": {
      "provenance": []
    },
    "kernelspec": {
      "display_name": "Python 3",
      "name": "python3"
    },
    "language_info": {
      "name": "python"
    }
  },
  "nbformat": 4,
  "nbformat_minor": 0
}
